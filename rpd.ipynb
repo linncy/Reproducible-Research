{
 "cells": [
  {
   "cell_type": "code",
   "execution_count": null,
   "metadata": {},
   "outputs": [],
   "source": [
    "import time"
   ]
  },
  {
   "cell_type": "code",
   "execution_count": null,
   "metadata": {},
   "outputs": [],
   "source": [
    "a= int(time.strftime(\"%Y%m%d%H%M\", now))"
   ]
  },
  {
   "cell_type": "code",
   "execution_count": null,
   "metadata": {},
   "outputs": [],
   "source": [
    "a"
   ]
  },
  {
   "cell_type": "code",
   "execution_count": null,
   "metadata": {},
   "outputs": [],
   "source": [
    "print(time.timezone)"
   ]
  },
  {
   "cell_type": "code",
   "execution_count": null,
   "metadata": {},
   "outputs": [],
   "source": [
    "now = time.time()-1"
   ]
  },
  {
   "cell_type": "code",
   "execution_count": null,
   "metadata": {},
   "outputs": [],
   "source": [
    "now"
   ]
  },
  {
   "cell_type": "code",
   "execution_count": null,
   "metadata": {},
   "outputs": [],
   "source": [
    "time.localtime()"
   ]
  },
  {
   "cell_type": "code",
   "execution_count": null,
   "metadata": {},
   "outputs": [],
   "source": [
    "dic={'1':1,'2':2,'4':4}"
   ]
  },
  {
   "cell_type": "code",
   "execution_count": null,
   "metadata": {},
   "outputs": [],
   "source": [
    "for i in dic:\n",
    "    print (dic[i])"
   ]
  },
  {
   "cell_type": "code",
   "execution_count": null,
   "metadata": {},
   "outputs": [],
   "source": [
    "import smtplib\n",
    "from email.mime.text import MIMEText\n",
    "from email.mime.multipart import MIMEMultipart"
   ]
  },
  {
   "cell_type": "code",
   "execution_count": null,
   "metadata": {},
   "outputs": [],
   "source": [
    "msg=Message()"
   ]
  },
  {
   "cell_type": "code",
   "execution_count": null,
   "metadata": {},
   "outputs": [],
   "source": [
    "msg['From']=1"
   ]
  },
  {
   "cell_type": "code",
   "execution_count": null,
   "metadata": {},
   "outputs": [],
   "source": [
    "msg['From']"
   ]
  },
  {
   "cell_type": "code",
   "execution_count": null,
   "metadata": {},
   "outputs": [],
   "source": [
    "msg"
   ]
  },
  {
   "cell_type": "code",
   "execution_count": null,
   "metadata": {},
   "outputs": [],
   "source": [
    "a=['1','a','12']"
   ]
  },
  {
   "cell_type": "code",
   "execution_count": null,
   "metadata": {},
   "outputs": [],
   "source": [
    "for item in a:\n",
    "    print(type(item))"
   ]
  },
  {
   "cell_type": "code",
   "execution_count": null,
   "metadata": {},
   "outputs": [],
   "source": [
    "import re"
   ]
  },
  {
   "cell_type": "code",
   "execution_count": null,
   "metadata": {},
   "outputs": [],
   "source": [
    "pattern = re.compile(r'(?<=\\{)[^}]*(?=\\})')  "
   ]
  },
  {
   "cell_type": "code",
   "execution_count": null,
   "metadata": {},
   "outputs": [],
   "source": [
    "m = pattern.findall('{1}{2}')"
   ]
  },
  {
   "cell_type": "code",
   "execution_count": null,
   "metadata": {},
   "outputs": [],
   "source": [
    "print(m)"
   ]
  },
  {
   "cell_type": "code",
   "execution_count": null,
   "metadata": {},
   "outputs": [],
   "source": [
    "import binascii\n",
    "import os\n",
    "binascii.b2a_base64(os.urandom(6))[:-1]"
   ]
  },
  {
   "cell_type": "markdown",
   "metadata": {},
   "source": [
    "import sqlite3"
   ]
  },
  {
   "cell_type": "markdown",
   "metadata": {},
   "source": [
    "sqlite3"
   ]
  },
  {
   "cell_type": "markdown",
   "metadata": {},
   "source": [
    "from sqlalchemy import *\n",
    "from sqlalchemy.engine.url import URL\n",
    "import os"
   ]
  },
  {
   "cell_type": "markdown",
   "metadata": {},
   "source": [
    "basedir='./db'"
   ]
  },
  {
   "cell_type": "markdown",
   "metadata": {},
   "source": [
    "os.path.join(basedir, 'CHE576.sqlite')"
   ]
  },
  {
   "cell_type": "markdown",
   "metadata": {},
   "source": [
    "sqlite_db={'drivername':'sqlite','database':os.path.join(basedir, 'CHE576.sqlite')}"
   ]
  },
  {
   "cell_type": "markdown",
   "metadata": {},
   "source": [
    "db_url=URL(**sqlite_db)"
   ]
  },
  {
   "cell_type": "markdown",
   "metadata": {},
   "source": [
    "engine=create_engine(db_url)"
   ]
  },
  {
   "cell_type": "markdown",
   "metadata": {},
   "source": [
    "metadata=MetaData(engine)"
   ]
  },
  {
   "cell_type": "markdown",
   "metadata": {},
   "source": [
    "table_info=Table('info',metadata,Column('info_id',Integer,primary_key=True,autoincrement=True,unique=True,nullable=False),Column('info_name',String),Column('info_value',String))"
   ]
  },
  {
   "cell_type": "markdown",
   "metadata": {},
   "source": [
    "table_stu=Table('stu',metadata,Column('stu_uid',Integer,primary_key=True,autoincrement=True,unique=True,nullable=False),Column('stuid',String,nullable=False,unique=True),Column('stu_name',String),Column('stu_numofhw',Integer),Column('stu_finalhwgrade',REAL))"
   ]
  },
  {
   "cell_type": "markdown",
   "metadata": {},
   "source": [
    "table_hw=Table('hw',metadata,Column('hw_id',Integer,primary_key=True,autoincrement=True,unique=True,nullable=False),Column('hw_available',BOOLEAN,nullable=False),Column('hw_due',String,nullable=False),Column('hw_distributions',Integer),Column('hw_collections',Integer),Column('hw_higrade',REAL),Column('hw_lograde',REAL),Column('avg_higrade',REAL))"
   ]
  },
  {
   "cell_type": "markdown",
   "metadata": {},
   "source": [
    "table_score=Table('score',metadata,Column('hw_id',Integer,ForeignKey(\"hw.hw_id\"),nullable=False),Column('stu_uid',Integer,ForeignKey(\"stu.stu_uid\"),nullable=False),Column('stuid',String,ForeignKey(\"stu.stuid\"),nullable=False),Column('score',REAL,nullable=False))"
   ]
  },
  {
   "cell_type": "markdown",
   "metadata": {},
   "source": [
    "table_token=Table('token',metadata,Column('hw_id',Integer,ForeignKey(\"hw.hw_id\"),nullable=False),Column('stu_uid',Integer,ForeignKey(\"stu.stu_uid\"),nullable=False),Column('stuid',String,ForeignKey(\"stu.stuid\"),nullable=False),Column('token',String,nullable=False))"
   ]
  },
  {
   "cell_type": "markdown",
   "metadata": {},
   "source": [
    "table_log=Table('log',metadata,Column('log_id',Integer,primary_key=True,autoincrement=True,unique=True,nullable=False),Column('time',String,nullable=False),Column('stu_uid',Integer,ForeignKey(\"stu.stu_uid\"),nullable=False),Column('log',String))"
   ]
  },
  {
   "cell_type": "markdown",
   "metadata": {},
   "source": [
    "metadata.create_all()\n",
    "for _t in metadata.tables:\n",
    "    print (\"Table:\",_t)"
   ]
  },
  {
   "cell_type": "code",
   "execution_count": null,
   "metadata": {},
   "outputs": [],
   "source": [
    "from rekit import rekit_db\n",
    "from sqlalchemy.orm import sessionmaker\n",
    "from sqlalchemy import *\n",
    "from rekit import models\n",
    "db_url=rekit_db.create_db('./db','CHE576.sqlite')\n",
    "engine = create_engine(db_url)"
   ]
  },
  {
   "cell_type": "code",
   "execution_count": null,
   "metadata": {},
   "outputs": [],
   "source": [
    "Session=sessionmaker(bind=engine)\n",
    "session=Session()"
   ]
  },
  {
   "cell_type": "code",
   "execution_count": null,
   "metadata": {},
   "outputs": [],
   "source": [
    "info=models.info(info_name='course',info_value='CHE576')\n",
    "session.add(info)"
   ]
  },
  {
   "cell_type": "code",
   "execution_count": null,
   "metadata": {},
   "outputs": [],
   "source": [
    "session.commit()\n",
    "session.close()"
   ]
  },
  {
   "cell_type": "code",
   "execution_count": null,
   "metadata": {},
   "outputs": [],
   "source": [
    "db_url\n",
    "engine = create_engine(db_url)"
   ]
  },
  {
   "cell_type": "code",
   "execution_count": null,
   "metadata": {},
   "outputs": [],
   "source": [
    "from pyorgtex import convert"
   ]
  },
  {
   "cell_type": "code",
   "execution_count": null,
   "metadata": {},
   "outputs": [],
   "source": [
    "eclassdict=convert.eclass2dict('1620_82604.xls')\n",
    "print(eclassdict)"
   ]
  },
  {
   "cell_type": "code",
   "execution_count": null,
   "metadata": {},
   "outputs": [],
   "source": [
    "rekit_db.eclassdict2db(eclassdict,db_url)"
   ]
  },
  {
   "cell_type": "code",
   "execution_count": null,
   "metadata": {},
   "outputs": [],
   "source": [
    "result = connection.execute(\"select info_id from info\")"
   ]
  },
  {
   "cell_type": "code",
   "execution_count": null,
   "metadata": {},
   "outputs": [],
   "source": [
    "for row in result:\n",
    "    print(row)"
   ]
  },
  {
   "cell_type": "code",
   "execution_count": null,
   "metadata": {},
   "outputs": [],
   "source": [
    "connection.close()"
   ]
  },
  {
   "cell_type": "code",
   "execution_count": null,
   "metadata": {},
   "outputs": [],
   "source": [
    "from rekit import rekit_db\n",
    "from sqlalchemy.orm import sessionmaker\n",
    "from sqlalchemy import *\n",
    "from rekit import models\n",
    "from rekit import app\n",
    "db_url='sqlite:///./db/CHE576.sqlite'\n",
    "info=models.info(info_name='course')"
   ]
  },
  {
   "cell_type": "code",
   "execution_count": null,
   "metadata": {},
   "outputs": [],
   "source": [
    "db_url='sqlite:///./db/CHE576.sqlite'\n",
    "engine = create_engine(db_url)\n",
    "Session=sessionmaker(bind=engine)\n",
    "session=Session()"
   ]
  },
  {
   "cell_type": "code",
   "execution_count": null,
   "metadata": {},
   "outputs": [],
   "source": [
    "queryresult=session.query(models.info).filter(models.info.info_id==6)\n",
    "print(queryresult.count())\n",
    "for item in queryresult:\n",
    "    print(item.info_id,item.info_name,item.info_value)"
   ]
  },
  {
   "cell_type": "code",
   "execution_count": null,
   "metadata": {},
   "outputs": [],
   "source": [
    "newtoken=models.token()"
   ]
  },
  {
   "cell_type": "code",
   "execution_count": null,
   "metadata": {},
   "outputs": [],
   "source": [
    "print(models.token().generate_token())"
   ]
  },
  {
   "cell_type": "code",
   "execution_count": null,
   "metadata": {},
   "outputs": [],
   "source": [
    "queryresult=session.query(models.stu).filter(models.stu.stuid=='1431383',models.stu.stu_uid==1)\n",
    "print(queryresult.count())\n",
    "for item in queryresult:\n",
    "    print(item.stu_uid,item.stuid,item.stu_name,item.stu_finalhwgrade==None)"
   ]
  },
  {
   "cell_type": "code",
   "execution_count": null,
   "metadata": {},
   "outputs": [],
   "source": [
    "app.generate_manual('1557000',db_url)"
   ]
  },
  {
   "cell_type": "code",
   "execution_count": null,
   "metadata": {},
   "outputs": [],
   "source": [
    "newdict={'course':'','term':'','classnumber':'','stuid':'','stu_name':'','token':'','token_type':'ACCESS','token_expiration':'','message':''}\n",
    "engine = create_engine(db_url)\n",
    "Session=sessionmaker(bind=engine)\n",
    "session=Session()"
   ]
  },
  {
   "cell_type": "code",
   "execution_count": null,
   "metadata": {},
   "outputs": [],
   "source": [
    "queryresult=session.query(models.info).filter(models.info.info_name=='term').one()"
   ]
  },
  {
   "cell_type": "code",
   "execution_count": null,
   "metadata": {},
   "outputs": [],
   "source": [
    "queryresult.info_value"
   ]
  },
  {
   "cell_type": "code",
   "execution_count": null,
   "metadata": {},
   "outputs": [],
   "source": [
    "queryresult=session.query(models.stu).all()"
   ]
  },
  {
   "cell_type": "code",
   "execution_count": null,
   "metadata": {},
   "outputs": [],
   "source": [
    "a=len(queryresult)"
   ]
  },
  {
   "cell_type": "code",
   "execution_count": null,
   "metadata": {},
   "outputs": [],
   "source": [
    "queryresult=session.query(models.info).filter(models.info.info_name=='numofstu').all()"
   ]
  },
  {
   "cell_type": "code",
   "execution_count": null,
   "metadata": {},
   "outputs": [],
   "source": [
    "b=queryresult[0].info_value"
   ]
  },
  {
   "cell_type": "code",
   "execution_count": null,
   "metadata": {},
   "outputs": [],
   "source": [
    "str(a)==str(b)"
   ]
  },
  {
   "cell_type": "code",
   "execution_count": null,
   "metadata": {},
   "outputs": [],
   "source": [
    "queryresult[0].stuid"
   ]
  },
  {
   "cell_type": "code",
   "execution_count": 4,
   "metadata": {},
   "outputs": [
    {
     "name": "stdout",
     "output_type": "stream",
     "text": [
      "tmp directory created\n",
      "./manualORG/alertmessage.stycopied\n",
      "./manualORG/fancybox.stycopied\n",
      "Create the directory: manual_gen\n",
      "1431383 Done!\n",
      "tmp directory created\n",
      "./manualORG/alertmessage.stycopied\n",
      "./manualORG/fancybox.stycopied\n",
      "1427947 Done!\n",
      "tmp directory created\n",
      "./manualORG/alertmessage.stycopied\n",
      "./manualORG/fancybox.stycopied\n",
      "1390163 Done!\n",
      "tmp directory created\n",
      "./manualORG/alertmessage.stycopied\n",
      "./manualORG/fancybox.stycopied\n",
      "1557000 Done!\n",
      "tmp directory created\n",
      "./manualORG/alertmessage.stycopied\n",
      "./manualORG/fancybox.stycopied\n",
      "1448041 Done!\n",
      "tmp directory created\n",
      "./manualORG/alertmessage.stycopied\n",
      "./manualORG/fancybox.stycopied\n",
      "1560440 Done!\n",
      "tmp directory created\n",
      "./manualORG/alertmessage.stycopied\n",
      "./manualORG/fancybox.stycopied\n",
      "1404011 Done!\n",
      "tmp directory created\n",
      "./manualORG/alertmessage.stycopied\n",
      "./manualORG/fancybox.stycopied\n",
      "1578842 Done!\n",
      "tmp directory created\n",
      "./manualORG/alertmessage.stycopied\n",
      "./manualORG/fancybox.stycopied\n",
      "1510638 Done!\n",
      "tmp directory created\n",
      "./manualORG/alertmessage.stycopied\n",
      "./manualORG/fancybox.stycopied\n",
      "1277495 Done!\n",
      "tmp directory created\n",
      "./manualORG/alertmessage.stycopied\n",
      "./manualORG/fancybox.stycopied\n",
      "1429788 Done!\n",
      "tmp directory created\n",
      "./manualORG/alertmessage.stycopied\n",
      "./manualORG/fancybox.stycopied\n",
      "1430632 Done!\n",
      "tmp directory created\n",
      "./manualORG/alertmessage.stycopied\n",
      "./manualORG/fancybox.stycopied\n",
      "1434027 Done!\n",
      "tmp directory created\n",
      "./manualORG/alertmessage.stycopied\n",
      "./manualORG/fancybox.stycopied\n",
      "1396988 Done!\n",
      "tmp directory created\n",
      "./manualORG/alertmessage.stycopied\n",
      "./manualORG/fancybox.stycopied\n",
      "1430217 Done!\n"
     ]
    }
   ],
   "source": [
    "from rekit import rekit_db\n",
    "from sqlalchemy.orm import sessionmaker\n",
    "from sqlalchemy import *\n",
    "from rekit import models\n",
    "from rekit import app\n",
    "db_url='sqlite:///./db/CHE576.sqlite'\n",
    "dependencylist=['./manualORG/alertmessage.sty','./manualORG/fancybox.sty']\n",
    "app.generate_manual_all(db_url,'./manualORG/manual.org','./manual_gen/','pdf',dependencylist)"
   ]
  },
  {
   "cell_type": "code",
   "execution_count": null,
   "metadata": {},
   "outputs": [],
   "source": [
    "type(\"aaa\")"
   ]
  },
  {
   "cell_type": "code",
   "execution_count": null,
   "metadata": {},
   "outputs": [],
   "source": [
    "import binascii,os\n",
    "bytes.decode(binascii.b2a_base64(os.urandom(6))[:-1]).replace('+','a').replace('/','s').upper()"
   ]
  },
  {
   "cell_type": "code",
   "execution_count": null,
   "metadata": {},
   "outputs": [],
   "source": [
    "str.encode('a')"
   ]
  },
  {
   "cell_type": "code",
   "execution_count": 17,
   "metadata": {},
   "outputs": [
    {
     "data": {
      "text/plain": [
       "'changyua'"
      ]
     },
     "execution_count": 17,
     "metadata": {},
     "output_type": "execute_result"
    }
   ],
   "source": [
    "import getpass\n",
    "getpass.getuser()"
   ]
  },
  {
   "cell_type": "code",
   "execution_count": 1,
   "metadata": {},
   "outputs": [
    {
     "data": {
      "text/plain": [
       "'Wed Feb 28 16:35:31 2018'"
      ]
     },
     "execution_count": 1,
     "metadata": {},
     "output_type": "execute_result"
    }
   ],
   "source": [
    "import time\n",
    "time.ctime(time.time()-25200)"
   ]
  },
  {
   "cell_type": "code",
   "execution_count": null,
   "metadata": {
    "scrolled": true
   },
   "outputs": [],
   "source": []
  },
  {
   "cell_type": "code",
   "execution_count": null,
   "metadata": {},
   "outputs": [],
   "source": []
  }
 ],
 "metadata": {
  "kernelspec": {
   "display_name": "Python 2",
   "language": "python",
   "name": "python2"
  },
  "language_info": {
   "codemirror_mode": {
    "name": "ipython",
    "version": 3
   },
   "file_extension": ".py",
   "mimetype": "text/x-python",
   "name": "python",
   "nbconvert_exporter": "python",
   "pygments_lexer": "ipython3",
   "version": "3.5.2"
  }
 },
 "nbformat": 4,
 "nbformat_minor": 2
}
